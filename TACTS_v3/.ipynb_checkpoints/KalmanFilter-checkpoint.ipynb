{
 "cells": [
  {
   "cell_type": "code",
   "execution_count": 1,
   "id": "74520690",
   "metadata": {},
   "outputs": [],
   "source": [
    "import tensorflow as tf\n",
    "import pandas as pd\n",
    "\n",
    "tf.random.set_seed(42)\n",
    "filename = 'D:/ME program/2017-PhD/01_research/02Study/34_ballon_like_cover/DeepLearing/TACTS/TACTS_v1/myData/SensorData56.csv'\n",
    "TofData = pd.read_csv(filename)"
   ]
  },
  {
   "cell_type": "code",
   "execution_count": 2,
   "id": "3b2bc714",
   "metadata": {
    "scrolled": true
   },
   "outputs": [
    {
     "name": "stdout",
     "output_type": "stream",
     "text": [
      "<class 'pandas.core.frame.DataFrame'>\n",
      "RangeIndex: 646 entries, 0 to 645\n",
      "Data columns (total 13 columns):\n",
      " #   Column       Non-Null Count  Dtype  \n",
      "---  ------       --------------  -----  \n",
      " 0   MedB         646 non-null    int64  \n",
      " 1   MedT         646 non-null    int64  \n",
      " 2   MinB         646 non-null    int64  \n",
      " 3   MinT         646 non-null    int64  \n",
      " 4   MaxB         646 non-null    int64  \n",
      " 5   MaxT         646 non-null    int64  \n",
      " 6   MeanB        646 non-null    int64  \n",
      " 7   MeanT        646 non-null    int64  \n",
      " 8   Target       646 non-null    int64  \n",
      " 9   MeanB-T      646 non-null    int64  \n",
      " 10  MeanT-T      646 non-null    int64  \n",
      " 11  MeanB(cali)  646 non-null    float64\n",
      " 12  MeanT(cali)  646 non-null    float64\n",
      "dtypes: float64(2), int64(11)\n",
      "memory usage: 65.7 KB\n"
     ]
    }
   ],
   "source": [
    "TofData.info()"
   ]
  },
  {
   "cell_type": "code",
   "execution_count": 3,
   "id": "7df8762e",
   "metadata": {},
   "outputs": [
    {
     "data": {
      "text/html": [
       "<div>\n",
       "<style scoped>\n",
       "    .dataframe tbody tr th:only-of-type {\n",
       "        vertical-align: middle;\n",
       "    }\n",
       "\n",
       "    .dataframe tbody tr th {\n",
       "        vertical-align: top;\n",
       "    }\n",
       "\n",
       "    .dataframe thead th {\n",
       "        text-align: right;\n",
       "    }\n",
       "</style>\n",
       "<table border=\"1\" class=\"dataframe\">\n",
       "  <thead>\n",
       "    <tr style=\"text-align: right;\">\n",
       "      <th></th>\n",
       "      <th>MedB</th>\n",
       "      <th>MedT</th>\n",
       "      <th>MinB</th>\n",
       "      <th>MinT</th>\n",
       "      <th>MaxB</th>\n",
       "      <th>MaxT</th>\n",
       "      <th>MeanB</th>\n",
       "      <th>MeanT</th>\n",
       "      <th>Target</th>\n",
       "      <th>MeanB-T</th>\n",
       "      <th>MeanT-T</th>\n",
       "      <th>MeanB(cali)</th>\n",
       "      <th>MeanT(cali)</th>\n",
       "    </tr>\n",
       "  </thead>\n",
       "  <tbody>\n",
       "    <tr>\n",
       "      <th>0</th>\n",
       "      <td>45</td>\n",
       "      <td>47</td>\n",
       "      <td>43</td>\n",
       "      <td>44</td>\n",
       "      <td>46</td>\n",
       "      <td>47</td>\n",
       "      <td>44</td>\n",
       "      <td>45</td>\n",
       "      <td>20</td>\n",
       "      <td>24</td>\n",
       "      <td>25</td>\n",
       "      <td>21.696594</td>\n",
       "      <td>17.831269</td>\n",
       "    </tr>\n",
       "    <tr>\n",
       "      <th>1</th>\n",
       "      <td>45</td>\n",
       "      <td>47</td>\n",
       "      <td>43</td>\n",
       "      <td>44</td>\n",
       "      <td>46</td>\n",
       "      <td>47</td>\n",
       "      <td>44</td>\n",
       "      <td>45</td>\n",
       "      <td>20</td>\n",
       "      <td>24</td>\n",
       "      <td>25</td>\n",
       "      <td>21.696594</td>\n",
       "      <td>17.831269</td>\n",
       "    </tr>\n",
       "    <tr>\n",
       "      <th>2</th>\n",
       "      <td>45</td>\n",
       "      <td>45</td>\n",
       "      <td>43</td>\n",
       "      <td>44</td>\n",
       "      <td>46</td>\n",
       "      <td>47</td>\n",
       "      <td>44</td>\n",
       "      <td>45</td>\n",
       "      <td>20</td>\n",
       "      <td>24</td>\n",
       "      <td>25</td>\n",
       "      <td>21.696594</td>\n",
       "      <td>17.831269</td>\n",
       "    </tr>\n",
       "    <tr>\n",
       "      <th>3</th>\n",
       "      <td>45</td>\n",
       "      <td>45</td>\n",
       "      <td>43</td>\n",
       "      <td>44</td>\n",
       "      <td>46</td>\n",
       "      <td>47</td>\n",
       "      <td>44</td>\n",
       "      <td>45</td>\n",
       "      <td>20</td>\n",
       "      <td>24</td>\n",
       "      <td>25</td>\n",
       "      <td>21.696594</td>\n",
       "      <td>17.831269</td>\n",
       "    </tr>\n",
       "    <tr>\n",
       "      <th>4</th>\n",
       "      <td>45</td>\n",
       "      <td>45</td>\n",
       "      <td>43</td>\n",
       "      <td>44</td>\n",
       "      <td>46</td>\n",
       "      <td>47</td>\n",
       "      <td>44</td>\n",
       "      <td>45</td>\n",
       "      <td>20</td>\n",
       "      <td>24</td>\n",
       "      <td>25</td>\n",
       "      <td>21.696594</td>\n",
       "      <td>17.831269</td>\n",
       "    </tr>\n",
       "  </tbody>\n",
       "</table>\n",
       "</div>"
      ],
      "text/plain": [
       "   MedB  MedT  MinB  MinT  MaxB  MaxT  MeanB  MeanT  Target  MeanB-T  MeanT-T  \\\n",
       "0    45    47    43    44    46    47     44     45      20       24       25   \n",
       "1    45    47    43    44    46    47     44     45      20       24       25   \n",
       "2    45    45    43    44    46    47     44     45      20       24       25   \n",
       "3    45    45    43    44    46    47     44     45      20       24       25   \n",
       "4    45    45    43    44    46    47     44     45      20       24       25   \n",
       "\n",
       "   MeanB(cali)  MeanT(cali)  \n",
       "0    21.696594    17.831269  \n",
       "1    21.696594    17.831269  \n",
       "2    21.696594    17.831269  \n",
       "3    21.696594    17.831269  \n",
       "4    21.696594    17.831269  "
      ]
     },
     "execution_count": 3,
     "metadata": {},
     "output_type": "execute_result"
    }
   ],
   "source": [
    "TofData.head()"
   ]
  },
  {
   "cell_type": "code",
   "execution_count": 4,
   "id": "a2ce4a6b",
   "metadata": {},
   "outputs": [],
   "source": [
    "import numpy as np\n",
    "X = np.c_[TofData[\"Target\"]]\n",
    "y = np.c_[TofData[\"MeanT\"]]"
   ]
  },
  {
   "cell_type": "code",
   "execution_count": 5,
   "id": "fa99ee9d",
   "metadata": {},
   "outputs": [
    {
     "data": {
      "text/plain": [
       "<AxesSubplot:xlabel='Target', ylabel='MeanT'>"
      ]
     },
     "execution_count": 5,
     "metadata": {},
     "output_type": "execute_result"
    },
    {
     "data": {
      "image/png": "[encoded data removed]",
      "text/plain": [
       "<Figure size 432x288 with 1 Axes>"
      ]
     },
     "metadata": {
      "needs_background": "light"
     },
     "output_type": "display_data"
    }
   ],
   "source": [
    "TofData.plot(kind=\"scatter\", x= \"Target\",y= \"MeanT\",alpha = 0.1,color='green')"
   ]
  },
  {
   "cell_type": "code",
   "execution_count": 6,
   "id": "2959dd50",
   "metadata": {},
   "outputs": [],
   "source": [
    "import sklearn.linear_model\n",
    "from sklearn.model_selection import train_test_split\n",
    "from sklearn.preprocessing import StandardScaler\n",
    "\n",
    "X_train, X_test, y_train, y_test = train_test_split(X, y, test_size = 0.2, random_state=42)"
   ]
  },
  {
   "cell_type": "code",
   "execution_count": 7,
   "id": "3fcb4bd9",
   "metadata": {},
   "outputs": [
    {
     "data": {
      "text/plain": [
       "LinearRegression()"
      ]
     },
     "execution_count": 7,
     "metadata": {},
     "output_type": "execute_result"
    }
   ],
   "source": [
    "model = sklearn.linear_model.LinearRegression(fit_intercept=True)\n",
    "model.fit(X_train,y_train)"
   ]
  },
  {
   "cell_type": "code",
   "execution_count": 8,
   "id": "51378166",
   "metadata": {},
   "outputs": [],
   "source": [
    "y_pred = model.predict(X_test)"
   ]
  },
  {
   "cell_type": "code",
   "execution_count": 9,
   "id": "ecd84b57",
   "metadata": {},
   "outputs": [
    {
     "name": "stdout",
     "output_type": "stream",
     "text": [
      "Coefficients:  [[1.01949437]] \n",
      "Intercept: :  [26.32748675]\n"
     ]
    },
    {
     "data": {
      "text/plain": [
       "<AxesSubplot:xlabel='Target', ylabel='MeanT'>"
      ]
     },
     "execution_count": 9,
     "metadata": {},
     "output_type": "execute_result"
    },
    {
     "data": {
      "image/png": "[encoded data removed]",
      "text/plain": [
       "<Figure size 432x288 with 1 Axes>"
      ]
     },
     "metadata": {
      "needs_background": "light"
     },
     "output_type": "display_data"
    },
    {
     "data": {
      "image/png": "[encoded data removed]",
      "text/plain": [
       "<Figure size 432x288 with 1 Axes>"
      ]
     },
     "metadata": {
      "needs_background": "light"
     },
     "output_type": "display_data"
    }
   ],
   "source": [
    "import matplotlib.pyplot as plt\n",
    "print('Coefficients: ', model.coef_,'\\nIntercept: : ',model.intercept_)\n",
    "plt.scatter(X_test, y_test,  color='red',alpha = 0.1)\n",
    "plt.plot(X_test, y_pred, color='blue', linewidth=1)\n",
    "TofData.plot(kind=\"scatter\", x= \"Target\",y= \"MeanT\",alpha = 0.1,color='green')"
   ]
  },
  {
   "cell_type": "code",
   "execution_count": null,
   "id": "6cf77abc",
   "metadata": {},
   "outputs": [],
   "source": []
  },
  {
   "cell_type": "code",
   "execution_count": null,
   "id": "6d69f071",
   "metadata": {},
   "outputs": [],
   "source": []
  },
  {
   "cell_type": "code",
   "execution_count": null,
   "id": "79a0ba75",
   "metadata": {},
   "outputs": [],
   "source": []
  }
 ],
 "metadata": {
  "kernelspec": {
   "display_name": "Python 3 (ipykernel)",
   "language": "python",
   "name": "python3"
  },
  "language_info": {
   "codemirror_mode": {
    "name": "ipython",
    "version": 3
   },
   "file_extension": ".py",
   "mimetype": "text/x-python",
   "name": "python",
   "nbconvert_exporter": "python",
   "pygments_lexer": "ipython3",
   "version": "3.9.7"
  }
 },
 "nbformat": 4,
 "nbformat_minor": 5
}
