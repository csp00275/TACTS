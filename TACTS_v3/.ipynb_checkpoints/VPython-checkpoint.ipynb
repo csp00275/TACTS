{
 "cells": [
  {
   "cell_type": "code",
   "execution_count": null,
   "id": "a4beca85",
   "metadata": {
    "scrolled": true
   },
   "outputs": [
    {
     "data": {
      "text/html": [
       "<div id=\"glowscript\" class=\"glowscript\"></div>"
      ],
      "text/plain": [
       "<IPython.core.display.HTML object>"
      ]
     },
     "metadata": {},
     "output_type": "display_data"
    },
    {
     "data": {
      "application/javascript": [
       "if (typeof Jupyter !== \"undefined\") { window.__context = { glowscript_container: $(\"#glowscript\").removeAttr(\"id\")};}else{ element.textContent = ' ';}"
      ],
      "text/plain": [
       "<IPython.core.display.Javascript object>"
      ]
     },
     "metadata": {},
     "output_type": "display_data"
    },
    {
     "data": {
      "application/javascript": [
       "if (typeof Jupyter !== \"undefined\") {require.undef(\"nbextensions/vpython_libraries/glow.min\");}else{element.textContent = ' ';}"
      ],
      "text/plain": [
       "<IPython.core.display.Javascript object>"
      ]
     },
     "metadata": {},
     "output_type": "display_data"
    },
    {
     "data": {
      "application/javascript": [
       "if (typeof Jupyter !== \"undefined\") {require.undef(\"nbextensions/vpython_libraries/glowcomm\");}else{element.textContent = ' ';}"
      ],
      "text/plain": [
       "<IPython.core.display.Javascript object>"
      ]
     },
     "metadata": {},
     "output_type": "display_data"
    },
    {
     "data": {
      "application/javascript": [
       "if (typeof Jupyter !== \"undefined\") {require.undef(\"nbextensions/vpython_libraries/jquery-ui.custom.min\");}else{element.textContent = ' ';}"
      ],
      "text/plain": [
       "<IPython.core.display.Javascript object>"
      ]
     },
     "metadata": {},
     "output_type": "display_data"
    },
    {
     "data": {
      "application/javascript": [
       "if (typeof Jupyter !== \"undefined\") {require([\"nbextensions/vpython_libraries/glow.min\"], function(){console.log(\"GLOW LOADED\");});}else{element.textContent = ' ';}"
      ],
      "text/plain": [
       "<IPython.core.display.Javascript object>"
      ]
     },
     "metadata": {},
     "output_type": "display_data"
    },
    {
     "data": {
      "application/javascript": [
       "if (typeof Jupyter !== \"undefined\") {require([\"nbextensions/vpython_libraries/glowcomm\"], function(){console.log(\"GLOWCOMM LOADED\");});}else{element.textContent = ' ';}"
      ],
      "text/plain": [
       "<IPython.core.display.Javascript object>"
      ]
     },
     "metadata": {},
     "output_type": "display_data"
    },
    {
     "data": {
      "application/javascript": [
       "if (typeof Jupyter !== \"undefined\") {require([\"nbextensions/vpython_libraries/jquery-ui.custom.min\"], function(){console.log(\"JQUERY LOADED\");});}else{element.textContent = ' ';}"
      ],
      "text/plain": [
       "<IPython.core.display.Javascript object>"
      ]
     },
     "metadata": {},
     "output_type": "display_data"
    }
   ],
   "source": [
    "from vpython import *\n",
    "import serial\n",
    "\n",
    "# 시리얼 포트 설정\n",
    "ser = serial.Serial('COM3', 115200, timeout=1)\n",
    "\n",
    "# VPython 초기 설정\n",
    "scene.camera.pos = vector(1, 1, 1) * 200\n",
    "scene.camera.axis = -scene.camera.pos\n",
    "\n",
    "# 원기둥 설정\n",
    "cylinder_radius = 50\n",
    "cylinder_height = 160\n",
    "cylinder_axis = vector(0, 0, cylinder_height)\n",
    "\n",
    "# 원기둥 생성\n",
    "cylinder_obj = cylinder(pos=vector(0, 0, 0), axis=cylinder_axis, radius=cylinder_radius, opacity=0.5)\n",
    "\n",
    "# 화살표 설정\n",
    "arrow_obj = arrow(pos=vector(0, 0, 0), axis=vector(0, 0, 0), color=color.red)\n",
    "\n",
    "# 궤적을 나타내는 포인트 리스트\n",
    "trail_points = []\n",
    "\n",
    "# 데이터 읽기 및 파싱 함수\n",
    "def read_serial_data():\n",
    "    line = ser.readline().decode('utf-8').strip()\n",
    "    if line:\n",
    "        str_values = line.split()\n",
    "        if len(str_values) == 5:\n",
    "            try:\n",
    "                return [float(val) for val in str_values]\n",
    "            except ValueError:\n",
    "                pass\n",
    "    return None\n",
    "\n",
    "# 메인 루프\n",
    "while True:\n",
    "    rate(100)  # 초당 20회 반복\n",
    "    data = read_serial_data()\n",
    "\n",
    "    if data:\n",
    "        force, Z, cos_theta, sin_theta,vaild = data\n",
    "        x = (cylinder_radius + force) * cos_theta\n",
    "        y = (cylinder_radius + force) * sin_theta\n",
    "        arrow_obj.pos = vector(x, y, Z)\n",
    "        arrow_obj.axis = vector(-force * cos_theta, -force * sin_theta, 0)\n",
    "\n",
    "        # 화살표 끝점에 궤적 점 추가\n",
    "        new_point_position = arrow_obj.pos + arrow_obj.axis\n",
    "        if len(trail_points) >= 50:\n",
    "            oldest_point = trail_points.pop(0)\n",
    "            oldest_point.visible = False\n",
    "        \n",
    "        # 새 궤적 점 추가\n",
    "        trail_points.append(sphere(pos=new_point_position, radius=1, color=color.blue))"
   ]
  },
  {
   "cell_type": "code",
   "execution_count": null,
   "id": "c7bc8299",
   "metadata": {},
   "outputs": [],
   "source": [
    "ser.close()"
   ]
  },
  {
   "cell_type": "code",
   "execution_count": null,
   "id": "248a6687",
   "metadata": {},
   "outputs": [],
   "source": []
  }
 ],
 "metadata": {
  "kernelspec": {
   "display_name": "Python 3 (ipykernel)",
   "language": "python",
   "name": "python3"
  },
  "language_info": {
   "codemirror_mode": {
    "name": "ipython",
    "version": 3
   },
   "file_extension": ".py",
   "mimetype": "text/x-python",
   "name": "python",
   "nbconvert_exporter": "python",
   "pygments_lexer": "ipython3",
   "version": "3.9.13"
  }
 },
 "nbformat": 4,
 "nbformat_minor": 5
}
