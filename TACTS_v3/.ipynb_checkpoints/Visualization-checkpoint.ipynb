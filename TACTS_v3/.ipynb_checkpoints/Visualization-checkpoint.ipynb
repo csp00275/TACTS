{
 "cells": [
  {
   "cell_type": "code",
   "execution_count": 3,
   "id": "643ea40f",
   "metadata": {},
   "outputs": [
    {
     "name": "stdout",
     "output_type": "stream",
     "text": [
      "Dash is running on http://127.0.0.1:8050/\n",
      "\n",
      " * Serving Flask app \"__main__\" (lazy loading)\n",
      " * Environment: production\n",
      "\u001b[31m   WARNING: This is a development server. Do not use it in a production deployment.\u001b[0m\n",
      "\u001b[2m   Use a production WSGI server instead.\u001b[0m\n",
      " * Debug mode: on\n"
     ]
    },
    {
     "name": "stderr",
     "output_type": "stream",
     "text": [
      "C:\\Users\\JH_LAB\\AppData\\Local\\Temp/ipykernel_15664/3213230403.py:2: UserWarning: \n",
      "The dash_core_components package is deprecated. Please replace\n",
      "`import dash_core_components as dcc` with `from dash import dcc`\n",
      "  import dash_core_components as dcc\n",
      "C:\\Users\\JH_LAB\\AppData\\Local\\Temp/ipykernel_15664/3213230403.py:3: UserWarning: \n",
      "The dash_html_components package is deprecated. Please replace\n",
      "`import dash_html_components as html` with `from dash import html`\n",
      "  import dash_html_components as html\n"
     ]
    },
    {
     "ename": "SystemExit",
     "evalue": "1",
     "output_type": "error",
     "traceback": [
      "An exception has occurred, use %tb to see the full traceback.\n",
      "\u001b[1;31mSystemExit\u001b[0m\u001b[1;31m:\u001b[0m 1\n"
     ]
    },
    {
     "name": "stderr",
     "output_type": "stream",
     "text": [
      "C:\\Users\\JH_LAB\\anaconda3\\lib\\site-packages\\IPython\\core\\interactiveshell.py:3452: UserWarning: To exit: use 'exit', 'quit', or Ctrl-D.\n",
      "  warn(\"To exit: use 'exit', 'quit', or Ctrl-D.\", stacklevel=1)\n"
     ]
    }
   ],
   "source": [
    "import numpy as np\n",
    "import serial\n",
    "import time\n",
    "from bokeh.plotting import figure, show\n",
    "from bokeh.io import push_notebook, output_notebook\n",
    "from bokeh import layouts\n",
    "\n",
    "\n",
    "ser = serial.Serial('COM7', 9600)\n",
    "\n",
    "num_sensors = 16\n",
    "sensor_data = np.zeros((num_sensors, 100))\n",
    "\n",
    "def update_sensor_data(data):\n",
    "    global sensor_data\n",
    "    sensor_data = np.roll(sensor_data, -1, axis=1)\n",
    "    sensor_data[:, -1] = data\n",
    "\n",
    "output_notebook()\n",
    "\n",
    "figs = []\n",
    "for i in range(num_sensors):\n",
    "    p = figure(title=f\"Sensor {i+1}\", width=600, height=100)\n",
    "    p.line(x=range(sensor_data.shape[1]), y=sensor_data[i], line_width=2)\n",
    "    figs.append(p)\n",
    "\n",
    "handle = show(layouts.column(*figs), notebook_handle=True)\n",
    "\n",
    "try:\n",
    "    while True:\n",
    "        # Read and parse data from the serial port\n",
    "        line = ser.readline().decode('utf-8').strip()\n",
    "        data = list(map(float, line.split(' ')))  # Modify this line to parse your sensor data format\n",
    "\n",
    "        if len(data) == num_sensors:\n",
    "            update_sensor_data(data)\n",
    "\n",
    "        # Update plots\n",
    "        for i in range(num_sensors):\n",
    "            figs[i].renderers[0].data_source.data['y'] = sensor_data[i]\n",
    "\n",
    "        push_notebook(handle=handle)\n",
    "        time.sleep(0.1)\n",
    "\n",
    "except KeyboardInterrupt:\n",
    "    # Stop the loop when interrupted\n",
    "    pass\n"
   ]
  },
  {
   "cell_type": "code",
   "execution_count": null,
   "id": "b23f2332",
   "metadata": {},
   "outputs": [],
   "source": []
  }
 ],
 "metadata": {
  "kernelspec": {
   "display_name": "Python 3 (ipykernel)",
   "language": "python",
   "name": "python3"
  },
  "language_info": {
   "codemirror_mode": {
    "name": "ipython",
    "version": 3
   },
   "file_extension": ".py",
   "mimetype": "text/x-python",
   "name": "python",
   "nbconvert_exporter": "python",
   "pygments_lexer": "ipython3",
   "version": "3.9.7"
  }
 },
 "nbformat": 4,
 "nbformat_minor": 5
}
